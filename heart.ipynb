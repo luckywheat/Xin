{
  "nbformat": 4,
  "nbformat_minor": 0,
  "metadata": {
    "colab": {
      "name": "heart.ipynb",
      "version": "0.3.2",
      "provenance": [],
      "include_colab_link": true
    },
    "kernelspec": {
      "name": "python3",
      "display_name": "Python 3"
    }
  },
  "cells": [
    {
      "cell_type": "markdown",
      "metadata": {
        "id": "view-in-github",
        "colab_type": "text"
      },
      "source": [
        "<a href=\"https://colab.research.google.com/github/luckywheat/Xin/blob/mystudy/heart.ipynb\" target=\"_parent\"><img src=\"https://colab.research.google.com/assets/colab-badge.svg\" alt=\"Open In Colab\"/></a>"
      ]
    },
    {
      "metadata": {
        "id": "ca3Q-TCiqNl-",
        "colab_type": "code",
        "colab": {
          "base_uri": "https://localhost:8080/",
          "height": 521
        },
        "outputId": "45ca247b-d29a-461a-fe59-f2487bb7a48c"
      },
      "cell_type": "code",
      "source": [
        "print('\\n'.join([''.join([('love wangxin'[(x-y)%12]if((x*0.05)**2+(y*0.1)**2-1)**3-(x*0.05)**2*(y*0.1)**3<=0 else' ')for x in range(-30,30)])for y in range(15,-15,-1)]))"
      ],
      "execution_count": 9,
      "outputs": [
        {
          "output_type": "stream",
          "text": [
            "                                                            \n",
            "                                                            \n",
            "                                                            \n",
            "                inlove wa           angxinlov               \n",
            "            ngxinlove wangxin   e wangxinlove wan           \n",
            "          angxinlove wangxinlove wangxinlove wangxi         \n",
            "         angxinlove wangxinlove wangxinlove wangxinl        \n",
            "        angxinlove wangxinlove wangxinlove wangxinlov       \n",
            "        ngxinlove wangxinlove wangxinlove wangxinlove       \n",
            "        gxinlove wangxinlove wangxinlove wangxinlove        \n",
            "        xinlove wangxinlove wangxinlove wangxinlove w       \n",
            "        inlove wangxinlove wangxinlove wangxinlove wa       \n",
            "        nlove wangxinlove wangxinlove wangxinlove wan       \n",
            "         ove wangxinlove wangxinlove wangxinlove wan        \n",
            "          e wangxinlove wangxinlove wangxinlove wan         \n",
            "           wangxinlove wangxinlove wangxinlove wang         \n",
            "            ngxinlove wangxinlove wangxinlove wan           \n",
            "             xinlove wangxinlove wangxinlove wan            \n",
            "              nlove wangxinlove wangxinlove wan             \n",
            "                ve wangxinlove wangxinlove wa               \n",
            "                  wangxinlove wangxinlove w                 \n",
            "                    gxinlove wangxinlove                    \n",
            "                       love wangxinlov                      \n",
            "                           wangxinl                         \n",
            "                             gxi                            \n",
            "                              i                             \n",
            "                                                            \n",
            "                                                            \n",
            "                                                            \n",
            "                                                            \n"
          ],
          "name": "stdout"
        }
      ]
    }
  ]
}